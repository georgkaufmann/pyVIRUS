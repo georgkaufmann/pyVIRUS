{
 "cells": [
  {
   "cell_type": "markdown",
   "metadata": {},
   "source": [
    "<table>\n",
    "<tr><td><img style=\"height: 150px;\" src=\"images/geo_hydro1.jpg\"></td>\n",
    "<td bgcolor=\"#FFFFFF\">\n",
    "    <p style=\"font-size: xx-large; font-weight: 900; line-height: 100%\">pyVIRUS</p>\n",
    "    <p style=\"font-size: large; color: rgba(0,0,0,0.5);\"><b style=color:red;>Virus</b> modelling</p>\n",
    "    <p style=\"font-size: large; color: rgba(0,0,0,0.5);\">Georg Kaufmann</p>\n",
    "    </td>\n",
    "<td><img style=\"height: 150px;\" src=\"images/pyVIRUS.png\"></td>\n",
    "</tr>\n",
    "</table>\n",
    "\n",
    "----\n",
    "# `pyVIRUS`\n",
    "\n",
    "pyVIRUS, a program package for for modelling the spread and containment of a virus in a population."
   ]
  },
  {
   "cell_type": "code",
   "execution_count": 2,
   "metadata": {
    "tags": []
   },
   "outputs": [],
   "source": [
    "import matplotlib.pyplot as plt\n",
    "import numpy as np\n",
    "from scipy import integrate\n",
    "import ipywidgets as widgets"
   ]
  },
  {
   "cell_type": "markdown",
   "metadata": {},
   "source": [
    "----\n",
    "# Evolution models (SEIR)\n",
    "In this notebook, we look into virus modelling with coupled differential equations.\n",
    "This setup is actually very similar to our geoscientific decay-series modeling for radiogenic isotopes!"
   ]
  },
  {
   "cell_type": "markdown",
   "metadata": {},
   "source": [
    "The **SEIR** model describes how a dicease spreads in a population from *healty* individuals to *invected* persons to *immune* people. \n",
    "\n",
    "**SEIR** stands for *Susceptible – Exposed - Infectious – Recovered*, it is a box model. We define $N$ as\n",
    "the total number of individuals.\n",
    "\n",
    "Then the number of people *susceptible* to the infection, the number of people *exposed*,\n",
    "the number of people *invected*, and the number of people *recovered and immune* are given as time functions:\n",
    "\n",
    "- $S(t)$: Number of susceptible people [1/number]\n",
    "\n",
    "- $E(t)$: Number of exposed people [1/number]\n",
    "\n",
    "- $I(t)$: Number of invected people [1/number]\n",
    "\n",
    "- $R(t)$: Number of recovered people [1/number]\n",
    "\n",
    "with $t$ the time.\n",
    "\n",
    "For the total number of people $N$, we define:\n",
    "$$\n",
    "N = S(t)+E(t)+I(t)+R(t)\n",
    "$$\n",
    "\n",
    "During the invection, people move from compartment $S$ via compartments $E$ and $I$ to compartment $R$.\n",
    "This is described by the following set of **coupled ordinary differential equation of first order**:\n",
    "$$\n",
    "\\begin{array}{rcl}\n",
    "{{dS} \\over {dt}} & = & - {{R_t} \\over {T_{inf}}} I S, \\\\\n",
    "{{dE} \\over {dt}} & = & + {{R_t} \\over {T_{inf}}} I S - {{1} \\over {T_{inc}}} E, \\\\\n",
    "{{dI} \\over {dt}} & = & + {{1} \\over {T_{inc}}} E - {{1} \\over {T_{inf}}} I, \\\\\n",
    "{{dR} \\over {dt}} & = & + {{1} \\over {T_{inf}}} I, \\\\\n",
    "\\end{array}\n",
    "$$\n",
    "with $R_t$ [1/number] the *transmission rate* (often called $R_0$ in the literature), \n",
    "$T_{inf}$ [days] the *incubation period*,\n",
    "and $T_{inc}$ [days] the *infectious period*."
   ]
  },
  {
   "cell_type": "code",
   "execution_count": 3,
   "metadata": {
    "tags": []
   },
   "outputs": [],
   "source": [
    "def rhsSEIR(t,y,Rt,Tinf,Tinc):\n",
    "    S, E, I, R = y\n",
    "    dSdt = -Rt/Tinf*S*I\n",
    "    dEdt = Rt/Tinf*I*S - E/Tinc\n",
    "    dIdt = E/Tinc - I/Tinf\n",
    "    dRdt = I/Tinf\n",
    "    return [dSdt, dEdt, dIdt, dRdt]"
   ]
  },
  {
   "cell_type": "code",
   "execution_count": 5,
   "metadata": {
    "tags": []
   },
   "outputs": [],
   "source": [
    "def runSEIR(Rt,Tinf,Tinc,tmax):\n",
    "    # Total population, N.\n",
    "    N = 1000\n",
    "    # Initial number of infected and recovered individuals, I0 and R0.\n",
    "    E0, I0, R0 = 0, 1, 0\n",
    "    # Everyone else, S0, is susceptible to infection initially.\n",
    "    S0 = N - I0 - R0 - E0\n",
    "    # Contact rate, beta, and mean recovery rate, gamma, (in 1/days).\n",
    "    #beta, gamma = 2.2, 1./28\n",
    "    # A grid of time points (in days)\n",
    "    t = np.linspace(0, tmax, 5*tmax)\n",
    "    # The SIR model differential equations.\n",
    "    # Initial conditions vector\n",
    "    y0 = [S0, E0, I0, R0]\n",
    "    # Integrate the SIR equations over the time grid, t.\n",
    "    solution = integrate.solve_ivp(rhsSEIR,[t[0],t[-1]],y0,t_eval=t,args=(Rt,Tinf,Tinc))\n",
    "    S, E, I, R = solution.y\n",
    "    # Plot the data on three separate curves for S(t), I(t) and R(t)\n",
    "    plt.figure(figsize=(10.0,6.0))\n",
    "    plt.xlabel('Time [days]')\n",
    "    plt.ylabel('People [%]')\n",
    "    plt.ylim([0,110])\n",
    "    plt.plot(t, 100*S/N, 'black', alpha=0.5, lw=2, label='Susceptible')\n",
    "    plt.plot(t, 100*E/N, 'b', alpha=0.5, lw=2, label='Exposed')\n",
    "    plt.fill_between(t, 100*I/N, 'r', alpha=0.5, lw=2, label='Infected')\n",
    "    plt.plot(t, 100*R/N, 'g', alpha=0.5, lw=2, label='Recovered')\n",
    "    plt.grid(which='major', c='lightgrey', lw=1, ls=':')\n",
    "    plt.legend()"
   ]
  },
  {
   "cell_type": "code",
   "execution_count": 7,
   "metadata": {
    "tags": []
   },
   "outputs": [
    {
     "data": {
      "application/vnd.jupyter.widget-view+json": {
       "model_id": "0c2a1b1340414751b590d1b2e7f43630",
       "version_major": 2,
       "version_minor": 0
      },
      "text/plain": [
       "HBox(children=(VBox(children=(FloatSlider(value=2.2, continuous_update=False, description='Rt', max=10.0, min=…"
      ]
     },
     "metadata": {},
     "output_type": "display_data"
    }
   ],
   "source": [
    "# call interactive module\n",
    "w = dict(\n",
    "Rt=widgets.FloatSlider(min=0.1,max=10,step=0.1,value=2.20,description='Rt',continuous_update=False),\n",
    "Tinc=widgets.FloatSlider(min=0.1,max=30,step=0.1,value=5.2,description='Tinc',continuous_update=False),\n",
    "Tinf=widgets.FloatSlider(min=0.1,max=30,step=0.1,value=2.9,description='Tinf',continuous_update=False),\n",
    "tmax=widgets.IntSlider(min=20,max=300,step=10,value=160,description='Days'))\n",
    "\n",
    "output = widgets.interactive_output(runSEIR, w)\n",
    "box = widgets.HBox([widgets.VBox([*w.values()]), output])\n",
    "display(box)"
   ]
  },
  {
   "cell_type": "markdown",
   "metadata": {},
   "source": [
    "----"
   ]
  }
 ],
 "metadata": {
  "kernelspec": {
   "display_name": "Python 3 (ipykernel)",
   "language": "python",
   "name": "python3"
  },
  "language_info": {
   "codemirror_mode": {
    "name": "ipython",
    "version": 3
   },
   "file_extension": ".py",
   "mimetype": "text/x-python",
   "name": "python",
   "nbconvert_exporter": "python",
   "pygments_lexer": "ipython3",
   "version": "3.11.3"
  }
 },
 "nbformat": 4,
 "nbformat_minor": 4
}
