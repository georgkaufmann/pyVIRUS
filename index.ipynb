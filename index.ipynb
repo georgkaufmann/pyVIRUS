{
 "cells": [
  {
   "cell_type": "markdown",
   "id": "383108c6",
   "metadata": {},
   "source": [
    "<table>\n",
    "<tr><td><img style=\"height: 150px;\" src=\"images/geo_hydro1.jpg\"></td>\n",
    "<td bgcolor=\"#FFFFFF\">\n",
    "    <p style=\"font-size: xx-large; font-weight: 900; line-height: 100%\">pyVIRUS</p>\n",
    "    <p style=\"font-size: large; color: rgba(0,0,0,0.5);\"><b style=color:red;>Virus</b> modelling</p>\n",
    "    <p style=\"font-size: large; color: rgba(0,0,0,0.5);\">Georg Kaufmann</p>\n",
    "    </td>\n",
    "<td><img style=\"height: 150px;\" src=\"images/pyVIRUS.png\"></td>\n",
    "</tr>\n",
    "</table>\n",
    "\n",
    "----\n",
    "# `pyVIRUS`\n",
    "\n",
    "pyVIRUS, a program package for for modelling the spread and containment of a virus in a population."
   ]
  },
  {
   "cell_type": "markdown",
   "id": "fea533e9",
   "metadata": {},
   "source": [
    "----\n",
    "## Contents\n",
    "\n",
    "- [Introduction](pyVIRUS_Introduction.ipynb)\n",
    "\n",
    "- Corona pandemic data\n",
    "    - [Global dataset](pyVIRUS_CoronaDataGlobal.ipynb)\n",
    "    - [Countries](pyVIRUS_CoronaDataCountry.ipynb)\n",
    "    - [Towards modelling ...](pyVIRUS_CoronaInfected.ipynb)\n",
    "    \n",
    "- Pandemic random-walk models\n",
    "    - [Random-walk model](pyVIRUS_RandomWalk.ipynb)\n",
    "    \n",
    "- Pandemic modelling\n",
    "    - [Solve ODEs](pyVIRUS_ODE_simple.ipynb)\n",
    "    - [SIR model](pyVIRUS_ODE_SIR1.ipynb)\n",
    "    - [Modified SIR model](pyVIRUS_ODE_SIR2.ipynb)\n",
    "    - [SIRV model](pyVIRUS_ODE_SIR3.ipynb)\n",
    "    - [SEIR model](pyVIRUS_ODE_SEIR.ipynb)\n",
    "    \n"
   ]
  },
  {
   "cell_type": "markdown",
   "id": "b9ee8777",
   "metadata": {},
   "source": [
    "----"
   ]
  }
 ],
 "metadata": {
  "kernelspec": {
   "display_name": "Python 3 (ipykernel)",
   "language": "python",
   "name": "python3"
  },
  "language_info": {
   "codemirror_mode": {
    "name": "ipython",
    "version": 3
   },
   "file_extension": ".py",
   "mimetype": "text/x-python",
   "name": "python",
   "nbconvert_exporter": "python",
   "pygments_lexer": "ipython3",
   "version": "3.11.3"
  }
 },
 "nbformat": 4,
 "nbformat_minor": 5
}
